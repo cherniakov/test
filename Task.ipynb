{
 "cells": [
  {
   "cell_type": "markdown",
   "id": "448a99ee",
   "metadata": {},
   "source": [
    "# Семинар 15.02.2022"
   ]
  },
  {
   "cell_type": "markdown",
   "id": "b10c5c16",
   "metadata": {},
   "source": [
    "1) Объявить класс фигуры (включает конструктор, принимающий координаты фигуры x, y)"
   ]
  },
  {
   "cell_type": "code",
   "execution_count": 1,
   "id": "ce8eb318",
   "metadata": {},
   "outputs": [],
   "source": [
    "class Figure(object):\n",
    "    def __init__(self, x, y):\n",
    "        self.x = x\n",
    "        self.y = y"
   ]
  },
  {
   "cell_type": "markdown",
   "id": "90345481",
   "metadata": {},
   "source": [
    "2) Создать объект фигуры"
   ]
  },
  {
   "cell_type": "code",
   "execution_count": 3,
   "id": "5bd2cc93",
   "metadata": {},
   "outputs": [],
   "source": [
    "a1 = Figure(3, 5)"
   ]
  },
  {
   "cell_type": "code",
   "execution_count": null,
   "id": "ad017cd1",
   "metadata": {},
   "outputs": [],
   "source": []
  }
 ],
 "metadata": {
  "kernelspec": {
   "display_name": "Python 3 (ipykernel)",
   "language": "python",
   "name": "python3"
  },
  "language_info": {
   "codemirror_mode": {
    "name": "ipython",
    "version": 3
   },
   "file_extension": ".py",
   "mimetype": "text/x-python",
   "name": "python",
   "nbconvert_exporter": "python",
   "pygments_lexer": "ipython3",
   "version": "3.8.12"
  }
 },
 "nbformat": 4,
 "nbformat_minor": 5
}
